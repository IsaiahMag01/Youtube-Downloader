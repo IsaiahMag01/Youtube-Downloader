{
  "nbformat": 4,
  "nbformat_minor": 0,
  "metadata": {
    "colab": {
      "provenance": [],
      "toc_visible": true,
      "authorship_tag": "ABX9TyMhs3vHmA8jCg8LJKWkWDZE",
      "include_colab_link": true
    },
    "kernelspec": {
      "name": "python3",
      "display_name": "Python 3"
    },
    "language_info": {
      "name": "python"
    }
  },
  "cells": [
    {
      "cell_type": "markdown",
      "metadata": {
        "id": "view-in-github",
        "colab_type": "text"
      },
      "source": [
        "<a href=\"https://colab.research.google.com/github/IsaiahMag01/Youtube-Downloader/blob/master/Advanced_Python_Programming_Course.ipynb\" target=\"_parent\"><img src=\"https://colab.research.google.com/assets/colab-badge.svg\" alt=\"Open In Colab\"/></a>"
      ]
    },
    {
      "cell_type": "code",
      "execution_count": null,
      "metadata": {
        "id": "B9615XkM3-xY"
      },
      "outputs": [],
      "source": []
    },
    {
      "cell_type": "markdown",
      "source": [
        "# Section 2: App 1: Geometry Game - Introduction to OOP\n"
      ],
      "metadata": {
        "id": "74SPq3ZC47pF"
      }
    },
    {
      "cell_type": "markdown",
      "source": [
        "## 6. Find the Objects in this code"
      ],
      "metadata": {
        "id": "i7n2uGN34a6q"
      }
    },
    {
      "cell_type": "code",
      "source": [
        "# All Language elements are in this code\n",
        "a = 4\n",
        "b = 5\n",
        "c = [6,7,8]\n",
        "\n",
        "d=\"hi\"\n",
        "\"Hello\"\n",
        "\n",
        "def area(x):\n",
        "  return x**2\n",
        "\n",
        "area(3)"
      ],
      "metadata": {
        "colab": {
          "base_uri": "https://localhost:8080/"
        },
        "id": "zMDG-qKP4dTW",
        "outputId": "bdb8c717-4fdc-4b77-cf29-88b35b6ccfa8"
      },
      "execution_count": null,
      "outputs": [
        {
          "output_type": "execute_result",
          "data": {
            "text/plain": [
              "9"
            ]
          },
          "metadata": {},
          "execution_count": 3
        }
      ]
    },
    {
      "cell_type": "markdown",
      "source": [
        "My Guess: The Objects in this code are a, b, c, d, area()\n",
        "Answer: "
      ],
      "metadata": {
        "id": "SJ1mFZFK4uCe"
      }
    },
    {
      "cell_type": "markdown",
      "source": [
        "## 7. Python Language Elements from a deep view\n"
      ],
      "metadata": {
        "id": "GxYAeORk5Fca"
      }
    },
    {
      "cell_type": "markdown",
      "source": [
        "In previous lecture asked us to find all the obj. in the given code\n",
        "**Aw:** \n",
        "- **Objects:** 4, 5, [6,7](compound object), \"Hello\", \"Hi\", function Defanition, 2, 3, 9\n",
        "- **Identifiers:** a, b, c, d, area, x\n",
        "- **Operators:** **\n",
        "- **Delimiters:** , \" ( ) : [ ]\n",
        "- **Comments:** #All language elements are in this code\n",
        "\n",
        "Obj. are one of the elements of the python prog. language\n",
        "### **Elements of the Java Programming Language:**\n",
        "1. Objects\n",
        "2. Identifiers - names used to identify objects(optional)\n",
        "3. Operators - Conduct operations which change the output of an expression\n",
        "4. Delimiters\n",
        "5. Keywords - identifier with a specific meaning in the programming language\n",
        "6. Comments - text ignored by the compiler/interpreter\n",
        "7. Blank Lines\n",
        "8. White Space\n",
        "9. Indentation\n",
        "\n"
      ],
      "metadata": {
        "id": "JY4vnOWf5TeU"
      }
    },
    {
      "cell_type": "markdown",
      "source": [
        "## 8. What is a python Object"
      ],
      "metadata": {
        "id": "a0P8vr2x7mdr"
      }
    },
    {
      "cell_type": "markdown",
      "source": [
        "### Objects Expalained"
      ],
      "metadata": {
        "id": "FeUyBFfwuY-p"
      }
    },
    {
      "cell_type": "code",
      "source": [
        "inty = 5\n",
        "listy = [6,7]\n",
        "stringy = \"Hi\"\n",
        "\n",
        "import folium\n",
        "azores = folium.folium.Map(location = (38, -27), zoom_start = 6) #Just like the objects in the first four variables this is also an object, but all together it is a compound object just like the list\n",
        "# You can use a , to split one line into two lines"
      ],
      "metadata": {
        "id": "wy6I2df7raIg"
      },
      "execution_count": null,
      "outputs": []
    },
    {
      "cell_type": "markdown",
      "source": [
        "Objects Above:\n",
        "5, [6,7], 6, 7 \"Hi\" and folium.folium.Map(location = (38, -27), zoom_start = 6), 38, -27, 6\n",
        "\n"
      ],
      "metadata": {
        "id": "f_ijTH4Pr9-E"
      }
    },
    {
      "cell_type": "markdown",
      "source": [
        "All objects have a type: (One of the main things they have in common)"
      ],
      "metadata": {
        "id": "A_BSek1JseXD"
      }
    },
    {
      "cell_type": "code",
      "source": [
        "type(inty), type(listy), type(stringy), type(azores)"
      ],
      "metadata": {
        "id": "RdUWv4fhsydL"
      },
      "execution_count": null,
      "outputs": []
    },
    {
      "cell_type": "markdown",
      "source": [
        "(int, list, str, folium.folium.Map)"
      ],
      "metadata": {
        "id": "Bx44ZLkXsvp-"
      }
    },
    {
      "cell_type": "markdown",
      "source": [
        "All typed into the type method are identifiers but you can put thier actual values inside of them to get their actual types"
      ],
      "metadata": {
        "id": "oVCj4cSNtPLw"
      }
    },
    {
      "cell_type": "code",
      "source": [
        "type(5), type([6,7]), type(\"Hi\")"
      ],
      "metadata": {
        "id": "7qJG9FRitIXx"
      },
      "execution_count": null,
      "outputs": []
    },
    {
      "cell_type": "markdown",
      "source": [
        "(int, list, str)"
      ],
      "metadata": {
        "id": "MgW6Nc9stYaF"
      }
    },
    {
      "cell_type": "code",
      "source": [
        "type(folium.folium.Map(location = (38, -27), zoom_start = 6))"
      ],
      "metadata": {
        "id": "P1lRZQwKtbMc"
      },
      "execution_count": null,
      "outputs": []
    },
    {
      "cell_type": "markdown",
      "source": [
        "folium.folium.Map"
      ],
      "metadata": {
        "id": "g6gz_CTltfSt"
      }
    },
    {
      "cell_type": "markdown",
      "source": [
        "Many get confused because they look at how simple the passed in value is, and think it is so simple but in reality they are just shortcuts for a longer expression:"
      ],
      "metadata": {
        "id": "J0xscwtvtig-"
      }
    },
    {
      "cell_type": "markdown",
      "source": [
        "I.E:"
      ],
      "metadata": {
        "id": "fpUgJP92txxD"
      }
    },
    {
      "cell_type": "code",
      "source": [
        "int(x = 5)"
      ],
      "metadata": {
        "id": "rHqu9zfQtyyY"
      },
      "execution_count": null,
      "outputs": []
    },
    {
      "cell_type": "markdown",
      "source": [
        "5"
      ],
      "metadata": {
        "id": "eKgS6AOft2kU"
      }
    },
    {
      "cell_type": "markdown",
      "source": [
        "**int** just like **srt**, and **list** are all classes"
      ],
      "metadata": {
        "id": "Pwog5XNqt8Nf"
      }
    },
    {
      "cell_type": "markdown",
      "source": [
        "Object - Created from classes"
      ],
      "metadata": {
        "id": "Etf0HIUFt_1z"
      }
    },
    {
      "cell_type": "markdown",
      "source": [
        "These shortcuts were created by Python Devs so we dont have to go through the work of creating an object of a class every time we want to create an object"
      ],
      "metadata": {
        "id": "meG5qYfuuLyI"
      }
    },
    {
      "cell_type": "markdown",
      "source": [
        "Like if we were using folium to generate a map the process would take much longer then the one liner if a dev hadn't already simplified the proccess for us"
      ],
      "metadata": {
        "id": "8i8sLQjnuZbl"
      }
    },
    {
      "cell_type": "code",
      "source": [
        "import folium\n",
        "folium.folium.Map(location = (38, -27), zoom_start = 6)"
      ],
      "metadata": {
        "colab": {
          "base_uri": "https://localhost:8080/",
          "height": 394
        },
        "id": "2Rxu6DfKuiia",
        "outputId": "306162d7-a0b4-485f-e3c2-518239df09f4"
      },
      "execution_count": null,
      "outputs": [
        {
          "output_type": "execute_result",
          "data": {
            "text/plain": [
              "<folium.folium.Map at 0x7f7653a3a410>"
            ],
            "text/html": [
              "<div style=\"width:100%;\"><div style=\"position:relative;width:100%;height:0;padding-bottom:60%;\"><span style=\"color:#565656\">Make this Notebook Trusted to load map: File -> Trust Notebook</span><iframe srcdoc=\"&lt;!DOCTYPE html&gt;\n",
              "&lt;html&gt;\n",
              "&lt;head&gt;\n",
              "    \n",
              "    &lt;meta http-equiv=&quot;content-type&quot; content=&quot;text/html; charset=UTF-8&quot; /&gt;\n",
              "    \n",
              "        &lt;script&gt;\n",
              "            L_NO_TOUCH = false;\n",
              "            L_DISABLE_3D = false;\n",
              "        &lt;/script&gt;\n",
              "    \n",
              "    &lt;style&gt;html, body {width: 100%;height: 100%;margin: 0;padding: 0;}&lt;/style&gt;\n",
              "    &lt;style&gt;#map {position:absolute;top:0;bottom:0;right:0;left:0;}&lt;/style&gt;\n",
              "    &lt;script src=&quot;https://cdn.jsdelivr.net/npm/leaflet@1.9.3/dist/leaflet.js&quot;&gt;&lt;/script&gt;\n",
              "    &lt;script src=&quot;https://code.jquery.com/jquery-1.12.4.min.js&quot;&gt;&lt;/script&gt;\n",
              "    &lt;script src=&quot;https://cdn.jsdelivr.net/npm/bootstrap@5.2.2/dist/js/bootstrap.bundle.min.js&quot;&gt;&lt;/script&gt;\n",
              "    &lt;script src=&quot;https://cdnjs.cloudflare.com/ajax/libs/Leaflet.awesome-markers/2.0.2/leaflet.awesome-markers.js&quot;&gt;&lt;/script&gt;\n",
              "    &lt;link rel=&quot;stylesheet&quot; href=&quot;https://cdn.jsdelivr.net/npm/leaflet@1.9.3/dist/leaflet.css&quot;/&gt;\n",
              "    &lt;link rel=&quot;stylesheet&quot; href=&quot;https://cdn.jsdelivr.net/npm/bootstrap@5.2.2/dist/css/bootstrap.min.css&quot;/&gt;\n",
              "    &lt;link rel=&quot;stylesheet&quot; href=&quot;https://netdna.bootstrapcdn.com/bootstrap/3.0.0/css/bootstrap.min.css&quot;/&gt;\n",
              "    &lt;link rel=&quot;stylesheet&quot; href=&quot;https://cdn.jsdelivr.net/npm/@fortawesome/fontawesome-free@6.2.0/css/all.min.css&quot;/&gt;\n",
              "    &lt;link rel=&quot;stylesheet&quot; href=&quot;https://cdnjs.cloudflare.com/ajax/libs/Leaflet.awesome-markers/2.0.2/leaflet.awesome-markers.css&quot;/&gt;\n",
              "    &lt;link rel=&quot;stylesheet&quot; href=&quot;https://cdn.jsdelivr.net/gh/python-visualization/folium/folium/templates/leaflet.awesome.rotate.min.css&quot;/&gt;\n",
              "    \n",
              "            &lt;meta name=&quot;viewport&quot; content=&quot;width=device-width,\n",
              "                initial-scale=1.0, maximum-scale=1.0, user-scalable=no&quot; /&gt;\n",
              "            &lt;style&gt;\n",
              "                #map_c3e0dc3a358e4601788654f4e59bd2a6 {\n",
              "                    position: relative;\n",
              "                    width: 100.0%;\n",
              "                    height: 100.0%;\n",
              "                    left: 0.0%;\n",
              "                    top: 0.0%;\n",
              "                }\n",
              "                .leaflet-container { font-size: 1rem; }\n",
              "            &lt;/style&gt;\n",
              "        \n",
              "&lt;/head&gt;\n",
              "&lt;body&gt;\n",
              "    \n",
              "    \n",
              "            &lt;div class=&quot;folium-map&quot; id=&quot;map_c3e0dc3a358e4601788654f4e59bd2a6&quot; &gt;&lt;/div&gt;\n",
              "        \n",
              "&lt;/body&gt;\n",
              "&lt;script&gt;\n",
              "    \n",
              "    \n",
              "            var map_c3e0dc3a358e4601788654f4e59bd2a6 = L.map(\n",
              "                &quot;map_c3e0dc3a358e4601788654f4e59bd2a6&quot;,\n",
              "                {\n",
              "                    center: [38.0, -27.0],\n",
              "                    crs: L.CRS.EPSG3857,\n",
              "                    zoom: 6,\n",
              "                    zoomControl: true,\n",
              "                    preferCanvas: false,\n",
              "                }\n",
              "            );\n",
              "\n",
              "            \n",
              "\n",
              "        \n",
              "    \n",
              "            var tile_layer_65aa9bca0db21a0beb8dbf237f8925df = L.tileLayer(\n",
              "                &quot;https://{s}.tile.openstreetmap.org/{z}/{x}/{y}.png&quot;,\n",
              "                {&quot;attribution&quot;: &quot;Data by \\u0026copy; \\u003ca target=\\&quot;_blank\\&quot; href=\\&quot;http://openstreetmap.org\\&quot;\\u003eOpenStreetMap\\u003c/a\\u003e, under \\u003ca target=\\&quot;_blank\\&quot; href=\\&quot;http://www.openstreetmap.org/copyright\\&quot;\\u003eODbL\\u003c/a\\u003e.&quot;, &quot;detectRetina&quot;: false, &quot;maxNativeZoom&quot;: 18, &quot;maxZoom&quot;: 18, &quot;minZoom&quot;: 0, &quot;noWrap&quot;: false, &quot;opacity&quot;: 1, &quot;subdomains&quot;: &quot;abc&quot;, &quot;tms&quot;: false}\n",
              "            ).addTo(map_c3e0dc3a358e4601788654f4e59bd2a6);\n",
              "        \n",
              "&lt;/script&gt;\n",
              "&lt;/html&gt;\" style=\"position:absolute;width:100%;height:100%;left:0;top:0;border:none !important;\" allowfullscreen webkitallowfullscreen mozallowfullscreen></iframe></div></div>"
            ]
          },
          "metadata": {},
          "execution_count": 9
        }
      ]
    },
    {
      "cell_type": "markdown",
      "source": [
        "Every Oject is unique with thier own properties and abilities\n"
      ],
      "metadata": {
        "id": "hMEwHDBQvBbv"
      }
    },
    {
      "cell_type": "markdown",
      "source": [
        "#### What can we do with our map object?"
      ],
      "metadata": {
        "id": "nC-9TwIGvG-t"
      }
    },
    {
      "cell_type": "markdown",
      "source": [
        "We can save it into an html file then open it into our browser like so:"
      ],
      "metadata": {
        "id": "ULTIPZvxvJyo"
      }
    },
    {
      "cell_type": "code",
      "source": [
        "import folium\n",
        "folium.folium.Map(location = (38, -27), zoom_start = 6).save(\"output.html\")"
      ],
      "metadata": {
        "id": "YxtIg7vVvRmq"
      },
      "execution_count": null,
      "outputs": []
    },
    {
      "cell_type": "markdown",
      "source": [
        "If you were to type folium.__file__ into your terminal and go to the folium directory in your computer you will find everything this object can do is written in python -> class"
      ],
      "metadata": {
        "id": "HveFKfNHv7Aq"
      }
    },
    {
      "cell_type": "markdown",
      "source": [
        "This is done using the **class** syntax"
      ],
      "metadata": {
        "id": "8fhS-us_wMng"
      }
    },
    {
      "cell_type": "markdown",
      "source": [
        "Just like ***def*** = keyword for creating functions ***class*** = keyword for creating object blueprints both are written in cpython which is a software you use to write python code and are written in the C programming language(what python is written in)"
      ],
      "metadata": {
        "id": "eS7TQCW5wO1L"
      }
    },
    {
      "cell_type": "markdown",
      "source": [
        "Well Look in the next section how to creat classes"
      ],
      "metadata": {
        "id": "WTsm6RqKwk3I"
      }
    },
    {
      "cell_type": "markdown",
      "source": [
        "They ultimatly allow you to automate, and become a better and more structured programmer"
      ],
      "metadata": {
        "id": "MWWvdFFKw4ls"
      }
    },
    {
      "cell_type": "markdown",
      "source": [
        "# Section 3: App 1: Geometry Game - More Practice with Classes"
      ],
      "metadata": {
        "id": "HgmmNhd0w-Tq"
      }
    }
  ]
}